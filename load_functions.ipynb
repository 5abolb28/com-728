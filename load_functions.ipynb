{
 "cells": [
  {
   "cell_type": "markdown",
   "id": "5b85742d",
   "metadata": {},
   "source": [
    "Load Function"
   ]
  },
  {
   "cell_type": "code",
   "execution_count": 1,
   "id": "2bd379ad",
   "metadata": {},
   "outputs": [],
   "source": [
    "import pandas as pd\n",
    "'''\n",
    "Python Function to load data csv file from path into a dataframe\n",
    "'''\n",
    "def load_data_from_path(df_path):\n",
    "    df = pd.read_csv(df_path)\n",
    "    return df"
   ]
  },
  {
   "cell_type": "code",
   "execution_count": null,
   "id": "c860ae7d",
   "metadata": {},
   "outputs": [],
   "source": []
  }
 ],
 "metadata": {
  "kernelspec": {
   "display_name": "Python 3 (ipykernel)",
   "language": "python",
   "name": "python3"
  },
  "language_info": {
   "codemirror_mode": {
    "name": "ipython",
    "version": 3
   },
   "file_extension": ".py",
   "mimetype": "text/x-python",
   "name": "python",
   "nbconvert_exporter": "python",
   "pygments_lexer": "ipython3",
   "version": "3.9.13"
  }
 },
 "nbformat": 4,
 "nbformat_minor": 5
}
