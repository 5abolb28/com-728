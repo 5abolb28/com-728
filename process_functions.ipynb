{
 "cells": [
  {
   "cell_type": "markdown",
   "id": "6599bd92",
   "metadata": {},
   "source": [
    "Process Function"
   ]
  },
  {
   "cell_type": "code",
   "execution_count": 1,
   "id": "b5c7fe27",
   "metadata": {},
   "outputs": [
    {
     "ename": "SyntaxError",
     "evalue": "invalid syntax (3106141236.py, line 25)",
     "output_type": "error",
     "traceback": [
      "\u001b[0;36m  File \u001b[0;32m\"/var/folders/ty/xrgfz5qj55n_thtqk5s386q00000gn/T/ipykernel_39494/3106141236.py\"\u001b[0;36m, line \u001b[0;32m25\u001b[0m\n\u001b[0;31m    return result_df\u001b[0m\n\u001b[0m    ^\u001b[0m\n\u001b[0;31mSyntaxError\u001b[0m\u001b[0;31m:\u001b[0m invalid syntax\n"
     ]
    }
   ],
   "source": [
    "'''\n",
    "Python to search records by car_ID and return the record\n",
    "'''\n",
    "def get_record_by_id(df, car_id):\n",
    "    car_id_vals = df[\"car_ID\"].values #get all car_ID values\n",
    "    #Check if car_id is present and valid\n",
    "    if car_id not in car_id_vals:\n",
    "        return 0\n",
    "    else:\n",
    "        #Get the record row by car_id\n",
    "        record_row = df[df[\"car_ID\"] == car_id].drop(\"car_ID\", axis=1)\n",
    "        return record_row.T #return the record row\n",
    "\n",
    "'''\n",
    "Python Function to search and return records with specified number of cylinders\n",
    "'''\n",
    "def get_cars_by_cyl(df, cyl_no):\n",
    "    cyl_no_vals = df[\"cylindernumber\"].values\n",
    "    #Check if cyl_no is present and valid\n",
    "    if cyl_no not in cyl_no_vals:\n",
    "        return 0\n",
    "    else:\n",
    "        #Get the records with specified number of cylinders\n",
    "        result_df = df[df[\"cylindernumber\"] == cyl_no.drop(\"cylindernumber\", axis=1)\n",
    "        return result_df\n",
    "                       \n",
    "'''\n",
    "Python Function to search and return records with specified body type\n",
    "'''\n",
    "def get_cars_by_carbody(df, car_body):\n",
    "    car_body_vals = df[\"carbody\"].values\n",
    "    #Check if car_body is present and valid\n",
    "    if car_body not in car_body_vals:\n",
    "        return 0\n",
    "    else:\n",
    "        #Get the records with specified car body\n",
    "        result_df = df[df[\"carbody\"] == car_body].drop(\"carbody\", axis=1)\n",
    "        return result_df  \n",
    "                       \n",
    "\n",
    "'''\n",
    "Python Function to get certain columns of a specific car record\n",
    "'''\n",
    "def get_record_by_id_columns(df, car_id, col_names):\n",
    "    record_row = df[df[\"car_ID\"] == car_id] #Get the record row by car_id\n",
    "    result = record_row[col_names] #Get the columns of the record row\n",
    "    return result #Return the result\n",
    "                       \n",
    "                       \n",
    "                       \n",
    "                       "
   ]
  },
  {
   "cell_type": "code",
   "execution_count": null,
   "id": "9cbaeaae",
   "metadata": {},
   "outputs": [],
   "source": []
  }
 ],
 "metadata": {
  "kernelspec": {
   "display_name": "Python 3 (ipykernel)",
   "language": "python",
   "name": "python3"
  },
  "language_info": {
   "codemirror_mode": {
    "name": "ipython",
    "version": 3
   },
   "file_extension": ".py",
   "mimetype": "text/x-python",
   "name": "python",
   "nbconvert_exporter": "python",
   "pygments_lexer": "ipython3",
   "version": "3.9.13"
  }
 },
 "nbformat": 4,
 "nbformat_minor": 5
}
