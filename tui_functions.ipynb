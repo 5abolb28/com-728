{
 "cells": [
  {
   "cell_type": "markdown",
   "id": "ec1493dd",
   "metadata": {},
   "source": [
    "Text User Interface Functions"
   ]
  },
  {
   "cell_type": "code",
   "execution_count": 1,
   "id": "f499f3ca",
   "metadata": {},
   "outputs": [],
   "source": [
    "'''\n",
    "Python Function to display an error message when incorrect option is entered\n",
    "'''\n",
    "def display_error():\n",
    "    print('Incorrect Option Entered! Please try again!!') #To display error message\n",
    "    \n",
    "'''\n",
    "Python Function to display the main option\n",
    "'''\n",
    "def display_main_option():\n",
    "    print(\"Please Select from option 1-4:\")\n",
    "    user_select = input('''1. Process Data\n",
    "    \\n2. Utilise Data\n",
    "    \\n3. Visualise Data\n",
    "    \\n4. Exit\\n''')\n",
    "    try: #Check if the input is a number\n",
    "        return int(user_select)\n",
    "    except: #If the input is not a number\n",
    "        return 0\n",
    "    \n",
    "\n",
    "'''\n",
    "Python Function to display the process option and process the user's selection\n",
    "'''\n",
    "def display_process_option():\n",
    "    print(\"Please Select from option 1-4:\")\n",
    "    user_sub_select = input('''1. Retrieve a record for an individual car by ID.\n",
    "    \\n2. Retrieve all cars for a specified cylinder number.\n",
    "    \\n3. Retrieve all cars in the specified car body.\n",
    "    \\n4. Retrieve a specific number of colums(2 to 5), related to an individual car by ID.\\n''')\n",
    "    try: #Check if the input is a number\n",
    "        return int(user_sub_select)\n",
    "    except: #If the input is not a number\n",
    "        return 0\n",
    "    \n",
    "'''\n",
    "Python Function to display the utilise option and process the user's selection\n",
    "'''\n",
    "def display_utilise_option():\n",
    "    print(\"Please Select from option 1-4:\")\n",
    "    user_sub_select = input('''1. Retrieve the car names alphabetically.\n",
    "    \\n2. Retrieve summary of sales (total car price) for each car body.\n",
    "    \\n3. Retrieve the top 5 car sale by price (the most expensive) and per car body.\n",
    "    \\n4. Retrieve the detail of cars based on your own selection.\\n''')\n",
    "    try: #Check if the input is a number\n",
    "        return int(user_sub_select)\n",
    "    except: #If the input is not a number\n",
    "        return 0\n",
    "    \n",
    "'''\n",
    "Python Function to display the visualise option and perform visualisations on the data\n",
    "'''\n",
    "def display_visualise_option():\n",
    "    print(\"Please Select from option 1-3:\")\n",
    "    user_sub_select = input('''1. Display the number of cars per fuel system using a bar chart.\n",
    "    \\n2. Display the horsepower of the top 5 car sale by price (the cheapest) using a subplot.\n",
    "    \\n3. Display the selection of data by your choice to present the customer's buying behavior using a suitable visualisation.\\n''')\n",
    "    try: #Check if the input is a number\n",
    "        return int(user_sub_select)\n",
    "    except: #If the input is not a number\n",
    "        return 0"
   ]
  },
  {
   "cell_type": "code",
   "execution_count": null,
   "id": "3a24b6bb",
   "metadata": {},
   "outputs": [],
   "source": []
  }
 ],
 "metadata": {
  "kernelspec": {
   "display_name": "Python 3 (ipykernel)",
   "language": "python",
   "name": "python3"
  },
  "language_info": {
   "codemirror_mode": {
    "name": "ipython",
    "version": 3
   },
   "file_extension": ".py",
   "mimetype": "text/x-python",
   "name": "python",
   "nbconvert_exporter": "python",
   "pygments_lexer": "ipython3",
   "version": "3.9.13"
  }
 },
 "nbformat": 4,
 "nbformat_minor": 5
}
