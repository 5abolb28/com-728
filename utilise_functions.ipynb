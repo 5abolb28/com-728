{
 "cells": [
  {
   "cell_type": "markdown",
   "id": "085ee760",
   "metadata": {},
   "source": [
    "Utilise Function"
   ]
  },
  {
   "cell_type": "code",
   "execution_count": null,
   "id": "0abaff70",
   "metadata": {},
   "outputs": [],
   "source": [
    "'''\n",
    "Python Function to get all the car names, in alphabetical order\n",
    "'''\n",
    "def get_car_name_alpha(df):\n",
    "    return df[\"CarName\"].str.lower().sort_values() #Return car names in sorted order\n",
    "\n",
    "'''\n",
    "Python Function to retrieve summary of sales (total car price) for each car body\n",
    "'''\n",
    "def get_car_body_total_price(df):\n",
    "    return df.groupby(\"carbody\")[\"price\"].sum() #Return car body total price sum\n",
    "\n",
    "'''\n",
    "Python Function to retrieve the top 5 cars by price and per car body\n",
    "'''\n",
    "def get_car_body_total_top5(df):\n",
    "    return df.groupby(\"carbody\")[\"price\"].nlargest(5) #Return top 5 cars of each body type\n",
    "\n",
    "'''\n",
    "Python Function to retrieve selected data of a column\n",
    "'''\n",
    "def get_selected_data(df, col_name, value):\n",
    "    result = df[df[col_name] == value] #Get the records with specified value\n",
    "    return result"
   ]
  }
 ],
 "metadata": {
  "kernelspec": {
   "display_name": "Python 3 (ipykernel)",
   "language": "python",
   "name": "python3"
  },
  "language_info": {
   "codemirror_mode": {
    "name": "ipython",
    "version": 3
   },
   "file_extension": ".py",
   "mimetype": "text/x-python",
   "name": "python",
   "nbconvert_exporter": "python",
   "pygments_lexer": "ipython3",
   "version": "3.9.13"
  }
 },
 "nbformat": 4,
 "nbformat_minor": 5
}
