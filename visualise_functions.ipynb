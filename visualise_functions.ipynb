{
 "cells": [
  {
   "cell_type": "markdown",
   "id": "d28f9c4f",
   "metadata": {},
   "source": [
    "Visualise Function"
   ]
  },
  {
   "cell_type": "code",
   "execution_count": 1,
   "id": "01214b96",
   "metadata": {},
   "outputs": [],
   "source": [
    "import matplotlib.pyplot as plt\n",
    "\n",
    "'''\n",
    "Python Function to display the count of cars according to the fuel system using a bar chart\n",
    "'''\n",
    "def get_cars_fuel_system(df):\n",
    "    plt.figure()\n",
    "    df[\"fuelsystem\"].value_counts().plot(kind='bar',color='r') #Plot the bar chart\n",
    "    plt.ylabel(\"Counts\") #To set y-axis label\n",
    "    plt.xlabel(\"Fuel System type\") #To set x-axis label\n",
    "    plt.title(\"Record of Fuel Systems Per Cars\")\n",
    "    plt.show()\n",
    "    return\n",
    "\n",
    "'''\n",
    "Python Function to display the horsepower of the top 5 cheapest cars using a subplot\n",
    "'''\n",
    "def get_hp_top5(df):\n",
    "    plt.figure()\n",
    "    car_idx = df.sort_values('price', ascending=True)[:5][\"horsepower\"].index\n",
    "    x = df.loc[car_idx][\"CarName\"].values #Get names of those 5 cars\n",
    "    y = df.loc[car_idx][\"horsepower\"].values #Get horsepower of those 5 cars\n",
    "    plt.bar(x, y) #To plot the bar chart\n",
    "    plt.xticks(rotation=90) #Rotate x-axis labels\n",
    "    plt.ylabel(\"Horsepower\") #To set y-axis label\n",
    "    plt.xlabel(\"Car\") #To set x-axis label\n",
    "    plt.title(\"Horsepower of The Top5 Cheapest Cars\")\n",
    "    plt.show()\n",
    "    return\n",
    "\n",
    "'''\n",
    "Python Function to display the selection of a specified column/feature to visualize the buying behavior of a customer\n",
    "'''\n",
    "def get_selected_viz(df, col_name):\n",
    "    data = df[col_name] #To get the column data\n",
    "    if data.dtype != 'object': #To check if column is not categorical\n",
    "        plt.figure()\n",
    "        data.plot() #Plot the data\n",
    "        plt.show()\n",
    "        return\n",
    "    else: #If the column is categorical\n",
    "        plt.figure()\n",
    "        data.value_counts().plot(kind=\"bar\",color='y') #To plot the bar chart of the counts of the data\n",
    "        plt.show()\n",
    "        return\n",
    "        "
   ]
  },
  {
   "cell_type": "code",
   "execution_count": null,
   "id": "6a94648f",
   "metadata": {},
   "outputs": [],
   "source": []
  }
 ],
 "metadata": {
  "kernelspec": {
   "display_name": "Python 3 (ipykernel)",
   "language": "python",
   "name": "python3"
  },
  "language_info": {
   "codemirror_mode": {
    "name": "ipython",
    "version": 3
   },
   "file_extension": ".py",
   "mimetype": "text/x-python",
   "name": "python",
   "nbconvert_exporter": "python",
   "pygments_lexer": "ipython3",
   "version": "3.9.13"
  }
 },
 "nbformat": 4,
 "nbformat_minor": 5
}
